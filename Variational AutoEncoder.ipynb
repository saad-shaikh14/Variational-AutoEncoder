{
  "cells": [
    {
      "cell_type": "markdown",
      "metadata": {
        "id": "8cuL02iE742P"
      },
      "source": [
        "# Variational Autoencoder\n",
        "\n",
        "You are tasked with developing a Variational Autoencoder (VAE) in Tensorflow and Keras. A Variational Autoencoder is a particular type of neural network, which uses Variational (or Bayesian) Inference to generate synthetic data. You have previously developed an Autoencoder in the tutorials. For this assignment, you will need to implement a custom loss function into your model, and a custom layer, which will be described. The notebook provided contains the basic structure of the model, which you will need to complete.\n",
        "\n",
        "You should submit your completed notebook, with all outputs printed, to the canvas assignments page, along with a 1-page report that details how you compiled and trained the model, and a discussion of the reconstruction and generative results of the network."
      ]
    },
    {
      "cell_type": "code",
      "execution_count": null,
      "metadata": {
        "id": "jedCEAhxvx9S"
      },
      "outputs": [],
      "source": [
        "# Module imports\n",
        "import tensorflow as tf\n",
        "import numpy as np\n",
        "import matplotlib.pyplot as plt"
      ]
    },
    {
      "cell_type": "code",
      "execution_count": null,
      "metadata": {
        "colab": {
          "base_uri": "https://localhost:8080/"
        },
        "id": "nLmbT04yrcIm",
        "outputId": "30283bfa-7515-4aeb-c279-f71c6ec3e0a7"
      },
      "outputs": [
        {
          "name": "stdout",
          "output_type": "stream",
          "text": [
            "Model: \"encoder\"\n",
            "__________________________________________________________________________________________________\n",
            " Layer (type)                   Output Shape         Param #     Connected to                     \n",
            "==================================================================================================\n",
            " enc_input (InputLayer)         [(None, 28, 28, 1)]  0           []                               \n",
            "                                                                                                  \n",
            " enc_flatten (Flatten)          (None, 784)          0           ['enc_input[0][0]']              \n",
            "                                                                                                  \n",
            " enc_dense_1 (Dense)            (None, 2000)         1570000     ['enc_flatten[0][0]']            \n",
            "                                                                                                  \n",
            " enc_dense_2 (Dense)            (None, 256)          512256      ['enc_dense_1[0][0]']            \n",
            "                                                                                                  \n",
            " z_mean (Dense)                 (None, 2)            514         ['enc_dense_2[0][0]']            \n",
            "                                                                                                  \n",
            " z_log_var (Dense)              (None, 2)            514         ['enc_dense_2[0][0]']            \n",
            "                                                                                                  \n",
            "==================================================================================================\n",
            "Total params: 2,083,284\n",
            "Trainable params: 2,083,284\n",
            "Non-trainable params: 0\n",
            "__________________________________________________________________________________________________\n"
          ]
        }
      ],
      "source": [
        "### Create an encoder model based on the autoencoder used in Tutorial 7.\n",
        "### The model should have the following properties:\n",
        "# Model: \"encoder\"\n",
        "# _____________________________________________________________________________\n",
        "#  Layer (type)                 Output Shape         Activation     Input      \n",
        "# =============================================================================\n",
        "#  enc_input (InputLayer)       [(None, 28, 28, 1)]  None           \n",
        "#  enc_flatten (Flatten)        (None, 784)          None           enc_input\n",
        "#  enc_dense_1 (Dense)          (None, 2000)         ReLU           enc_flatten\n",
        "#  enc_dense_2 (Dense)          (None, 256)          ReLU           enc_dense_1\n",
        "#  z_mean (Dense)               (None, 2)            None           enc_dense_2\n",
        "#  z_log_var (Dense)            (None, 2)            None           enc_dense_2\n",
        "\n",
        "enc_input = tf.keras.layers.Input( shape=( 28 , 28 , 1 ) , name='enc_input' )\n",
        "enc_flatten = tf.keras.layers.Flatten( name='enc_flatten' )( enc_input )\n",
        "enc_dense_1 = tf.keras.layers.Dense( 2000 , activation='relu' , name='enc_dense_1' )( enc_flatten )\n",
        "enc_dense_2 = tf.keras.layers.Dense( 256 , activation='relu' , name='enc_dense_2' )( enc_dense_1 )\n",
        "z_mean = tf.keras.layers.Dense( 2 , name='z_mean' )( enc_dense_2 )\n",
        "z_log_var = tf.keras.layers.Dense( 2 , name='z_log_var' )( enc_dense_2 )\n",
        "\n",
        "encoder = tf.keras.models.Model( enc_input , [ z_mean , z_log_var ] , name='encoder' )\n",
        "encoder.summary()\n"
      ]
    },
    {
      "cell_type": "code",
      "execution_count": null,
      "metadata": {
        "colab": {
          "base_uri": "https://localhost:8080/"
        },
        "id": "u-6p_oAMjXWP",
        "outputId": "d8771369-556b-482c-f3d2-9695164eb0fa"
      },
      "outputs": [
        {
          "name": "stdout",
          "output_type": "stream",
          "text": [
            "Model: \"decoder\"\n",
            "_________________________________________________________________\n",
            " Layer (type)                Output Shape              Param #   \n",
            "=================================================================\n",
            " dec_input (InputLayer)      [(None, 2)]               0         \n",
            "                                                                 \n",
            " dec_dense_1 (Dense)         (None, 256)               768       \n",
            "                                                                 \n",
            " dec_dense_2 (Dense)         (None, 2000)              514000    \n",
            "                                                                 \n",
            " dec_dense_3 (Dense)         (None, 784)               1568784   \n",
            "                                                                 \n",
            " reshape (Reshape)           (None, 28, 28, 1)         0         \n",
            "                                                                 \n",
            "=================================================================\n",
            "Total params: 2,083,552\n",
            "Trainable params: 2,083,552\n",
            "Non-trainable params: 0\n",
            "_________________________________________________________________\n"
          ]
        }
      ],
      "source": [
        "### Create a decoder model with the following properties:\n",
        "# Model: \"decoder\"\n",
        "# _____________________________________________________________________________\n",
        "#  Layer (type)                Output Shape          Activation     Input\n",
        "# =============================================================================\n",
        "#  dec_input (InputLayer)      [(None, 2)]           None\n",
        "#  dec_dense_1 (Dense)         (None, 256)           ReLU           dec_input\n",
        "#  dec_dense_2 (Dense)         (None, 2000)          ReLU           dec_dense_1\n",
        "#  dec_dense_3 (Dense)         (None, 784)           Sigmoid        dec_dense_2\n",
        "#  img_out (Reshape)           (None, 28, 28, 1)     None           des_dense_3\n",
        "\n",
        "dec_input = tf.keras.layers.Input( shape=( 2 , ) , name='dec_input' )\n",
        "dec_dense_1 = tf.keras.layers.Dense( 256 , activation='relu' , name='dec_dense_1' )( dec_input )\n",
        "dec_dense_2 = tf.keras.layers.Dense( 2000 , activation='relu' , name='dec_dense_2' )( dec_dense_1 )\n",
        "dec_dense_3 = tf.keras.layers.Dense( 784 , activation='sigmoid' , name='dec_dense_3' )( dec_dense_2 )\n",
        "img_out = tf.keras.layers.Reshape( ( 28 , 28 , 1 ) )( dec_dense_3 )\n",
        "\n",
        "decoder = tf.keras.models.Model( dec_input , img_out , name='decoder' )\n",
        "decoder.summary()\n"
      ]
    },
    {
      "cell_type": "code",
      "execution_count": null,
      "metadata": {
        "id": "pwRt4ziVfckg"
      },
      "outputs": [],
      "source": [
        "### Create a class called latent_sampling, which subclasses layers.Layer.\n",
        "### The class should perform the reparameterisation trick in its .call()\n",
        "### method.\n",
        "### Reparameterization Trick: z = mean + epsilon * exp(ln(variance) * 0.5)\n",
        "### epsilon = N(0,1), a unit normal with same dims as mean and variance\n",
        "\n",
        "class latent_sampling( tf.keras.layers.Layer ):\n",
        "\n",
        "    def call( self , inputs ):\n",
        "        z_mean , z_log_var = inputs\n",
        "        batch = tf.shape( z_mean )[ 0 ]\n",
        "        dim = tf.shape( z_mean )[ 1 ]\n",
        "        epsilon = tf.keras.backend.random_normal( shape=( batch , dim ) )\n",
        "        return z_mean + epsilon * tf.exp( 0.5 * z_log_var )\n"
      ]
    },
    {
      "cell_type": "code",
      "execution_count": null,
      "metadata": {
        "id": "3iVq9tFnf5Am"
      },
      "outputs": [],
      "source": [
        "### Complete the VAE Class. Some methods are provided, it is up to you to write\n",
        "### the __init__ method—which will set up the layers and submodels—and the call\n",
        "### method.\n",
        "\n",
        "class VAE(tf.keras.Model):\n",
        "    \"\"\"\n",
        "    A Keras Model that implements a Variational Autoencoder. Model properties\n",
        "    should include the encoder and decoder models, a sampling layer, and the\n",
        "    number of latent variables in the encoded space.\n",
        "    \"\"\"\n",
        "    def __init__(self, latent_dim, encoder, decoder ):\n",
        "        super(VAE, self).__init__()\n",
        "        \"\"\"\n",
        "        Take in model properties and assign them to self.\n",
        "        \"\"\"\n",
        "        self.encoder = encoder\n",
        "        self.decoder = decoder\n",
        "        self.latent_sampling_layer = latent_sampling()\n",
        "\n",
        "\n",
        "    def encode(self, x):\n",
        "        \"\"\"\n",
        "        Method that applies the encoder model to input data. Returns the mean\n",
        "        and ln(variance) of the encoded variables.\n",
        "        \"\"\"\n",
        "        mean, logvar = self.encoder(x)\n",
        "        return mean, logvar\n",
        "\n",
        "    def decode(self, z):\n",
        "        \"\"\"\n",
        "        Method that applies the decoder model to a set of encoded variables.\n",
        "        Returns the generated images from the encoded data.\n",
        "        \"\"\"\n",
        "        x_hat = self.decoder(z)\n",
        "        return x_hat\n",
        "\n",
        "    def kl_loss(self, mean, logvar):\n",
        "        \"\"\"\n",
        "        Method that calculates the Kullback-Liebler Divergence between the\n",
        "        posterier distribution, N(mean, variance), and the prior, N(0,1).\n",
        "        Can be added to the model as a loss or metric, using self.add_loss and\n",
        "        self.add_metric\n",
        "        \"\"\"\n",
        "\n",
        "        # Calculate the element wise KL divergence\n",
        "        kl = -0.5 * (1 + logvar - tf.square(mean) - tf.exp(logvar))\n",
        "        # Sum up the divergence of all the variables in each data sample\n",
        "        kl = tf.reduce_sum(kl, axis=1)\n",
        "        # Average the divergence across all samples in the batch\n",
        "        kl = tf.reduce_mean(kl , name='reduce_mean_kl_loss')\n",
        "        return kl\n",
        "\n",
        "    def call(self, inputs):\n",
        "        \"\"\"\n",
        "        Apply the encoder, sampling layer and decoder to the input data. Add\n",
        "        the kl divergence to the model losses and metrics. Return the generated\n",
        "        image.\n",
        "        \"\"\"\n",
        "        z_mean , z_log_var = self.encode( inputs )\n",
        "        latent = self.latent_sampling_layer( [ z_mean , z_log_var ])\n",
        "        x_hat = self.decode( latent )\n",
        "\n",
        "        kl_loss =  self.kl_loss( z_mean , z_log_var ) \n",
        "        self.add_loss( kl_loss )\n",
        "        self.add_metric( kl_loss , name='kl_metric' )\n",
        "\n",
        "        return x_hat\n"
      ]
    },
    {
      "cell_type": "code",
      "execution_count": null,
      "metadata": {
        "id": "XahYXeWwgswM"
      },
      "outputs": [],
      "source": [
        "### Modified loss function for the model. The standard binary cross entropy\n",
        "### takes a mean over all pixels in all images, but the VAE needs the\n",
        "### reconstruction loss to be the sum of the pixel-wise losses, averaged over\n",
        "### samples in the batch. Otherwise the recon loss is too small.\n",
        "\n",
        "def recon_loss(y_true, y_pred):\n",
        "    print( y_true , y_pred )\n",
        "    loss = tf.reduce_sum( tf.keras.losses.binary_crossentropy(y_true, y_pred),\n",
        "                         axis=1 , name='reduce_sum_recon_loss'\n",
        "    )\n",
        "    return loss"
      ]
    },
    {
      "cell_type": "code",
      "execution_count": null,
      "metadata": {
        "id": "hJz4BESmgvow"
      },
      "outputs": [],
      "source": [
        "### Create the VAE model, using your encoder and decoder models. Compile the\n",
        "### model with appropriate optimizer settings, losses and metrics.\n",
        "### (HINT: don't be afraid to experiment with different settings here.)\n",
        "### Comment on how you arrived at the settings used in your report.\n",
        "\n",
        "vae = VAE( 1 , encoder , decoder )\n",
        "vae.compile( optimizer='adam' , loss=recon_loss )"
      ]
    },
    {
      "cell_type": "code",
      "execution_count": null,
      "metadata": {
        "colab": {
          "base_uri": "https://localhost:8080/"
        },
        "id": "1fTV3xTjgyb1",
        "outputId": "a3f38627-b3a9-4964-cd58-d2573d0dd5cf"
      },
      "outputs": [
        {
          "name": "stdout",
          "output_type": "stream",
          "text": [
            "Downloading data from https://storage.googleapis.com/tensorflow/tf-keras-datasets/mnist.npz\n",
            "11493376/11490434 [==============================] - 0s 0us/step\n",
            "11501568/11490434 [==============================] - 0s 0us/step\n"
          ]
        }
      ],
      "source": [
        "### Load the prepare the MNIST hand drawn digits dataset\n",
        "\n",
        "(x_train, y_train), (x_test, y_test) = tf.keras.datasets.mnist.load_data()\n",
        "x_train , x_test = x_train / 255 , x_test / 255\n",
        "\n",
        "\n"
      ]
    },
    {
      "cell_type": "code",
      "execution_count": null,
      "metadata": {
        "colab": {
          "base_uri": "https://localhost:8080/",
          "height": 157
        },
        "id": "8mfDFfrngY3u",
        "outputId": "8fb586e7-6943-488b-8c2e-c64432aa9504"
      },
      "outputs": [
        {
          "name": "stdout",
          "output_type": "stream",
          "text": [
            "Training data shapes: X=(60000, 28, 28), y=(60000,)\n",
            "Testing data shapes: X=(10000, 28, 28), y=(10000,)\n"
          ]
        },
        {
          "data": {
            "image/png": "[encoded data removed]",
            "text/plain": [
              "<Figure size 432x288 with 5 Axes>"
            ]
          },
          "metadata": {
            "needs_background": "light"
          },
          "output_type": "display_data"
        }
      ],
      "source": [
        "print('Training data shapes: X=%s, y=%s' % (x_train.shape, y_train.shape))\n",
        "print('Testing data shapes: X=%s, y=%s' % (x_test.shape, y_test.shape))\n",
        "for j in range(5):\n",
        "    i = np.random.randint(0, 100)\n",
        "    plt.subplot(350 + 1 + j)\n",
        "    plt.imshow(x_train[i],)\n",
        "    plt.title(y_train[i])\n",
        "plt.show()\n"
      ]
    },
    {
      "cell_type": "code",
      "execution_count": null,
      "metadata": {
        "colab": {
          "base_uri": "https://localhost:8080/"
        },
        "id": "ZR_fXA9WhkyQ",
        "outputId": "d82bcde6-5cbc-411a-dfef-ec8ea97eb3ea"
      },
      "outputs": [
        {
          "name": "stdout",
          "output_type": "stream",
          "text": [
            "Epoch 1/100\n",
            "Tensor(\"IteratorGetNext:1\", shape=(None,), dtype=uint8) Tensor(\"vae/decoder/reshape/Reshape:0\", shape=(None, 28, 28, 1), dtype=float32)\n",
            "Tensor(\"IteratorGetNext:1\", shape=(None,), dtype=uint8) Tensor(\"vae/decoder/reshape/Reshape:0\", shape=(None, 28, 28, 1), dtype=float32)\n",
            "936/938 [============================>.] - ETA: 0s - loss: -1461.3026 - kl_metric: 4.1324Tensor(\"IteratorGetNext:1\", shape=(None,), dtype=uint8) Tensor(\"vae/decoder/reshape/Reshape:0\", shape=(None, 28, 28, 1), dtype=float32)\n",
            "938/938 [==============================] - 17s 13ms/step - loss: -1461.2916 - kl_metric: 4.1236 - val_loss: -1470.2581 - val_kl_metric: 4.1473e-04\n",
            "Epoch 2/100\n",
            "938/938 [==============================] - 11s 12ms/step - loss: -1474.7546 - kl_metric: 2.9629e-04 - val_loss: -1470.2582 - val_kl_metric: 2.2080e-04\n",
            "Epoch 3/100\n",
            "938/938 [==============================] - 12s 12ms/step - loss: -1474.7544 - kl_metric: 1.8384e-04 - val_loss: -1470.2582 - val_kl_metric: 1.5850e-04\n",
            "Epoch 4/100\n",
            "938/938 [==============================] - 11s 12ms/step - loss: -1474.7562 - kl_metric: 1.3525e-04 - val_loss: -1470.2582 - val_kl_metric: 1.3295e-04\n",
            "Epoch 5/100\n",
            "938/938 [==============================] - 11s 12ms/step - loss: -1474.7557 - kl_metric: 1.0244e-04 - val_loss: -1470.2582 - val_kl_metric: 8.4405e-05\n",
            "Epoch 6/100\n",
            "938/938 [==============================] - 11s 12ms/step - loss: -1474.7567 - kl_metric: 7.3276e-05 - val_loss: -1470.2582 - val_kl_metric: 7.0957e-05\n",
            "Epoch 7/100\n",
            "938/938 [==============================] - 11s 12ms/step - loss: -1474.7560 - kl_metric: 5.1705e-05 - val_loss: -1470.2583 - val_kl_metric: 3.9766e-05\n",
            "Epoch 8/100\n",
            "938/938 [==============================] - 11s 12ms/step - loss: -1474.7554 - kl_metric: 2.8381e-05 - val_loss: -1470.2583 - val_kl_metric: 2.1885e-05\n",
            "Epoch 9/100\n",
            "938/938 [==============================] - 11s 12ms/step - loss: -1474.7567 - kl_metric: 1.1827e-05 - val_loss: -1470.2583 - val_kl_metric: 2.7575e-05\n",
            "Epoch 10/100\n",
            "938/938 [==============================] - 11s 11ms/step - loss: -1474.7566 - kl_metric: 8.9074e-06 - val_loss: -1470.2583 - val_kl_metric: 3.3506e-06\n",
            "Epoch 11/100\n",
            "938/938 [==============================] - 11s 11ms/step - loss: -1474.7559 - kl_metric: 8.2748e-06 - val_loss: -1470.2583 - val_kl_metric: 2.8799e-06\n",
            "Epoch 12/100\n",
            "938/938 [==============================] - 11s 12ms/step - loss: -1474.7557 - kl_metric: 9.5786e-06 - val_loss: -1470.2583 - val_kl_metric: 9.2370e-06\n",
            "Epoch 13/100\n",
            "938/938 [==============================] - 11s 12ms/step - loss: -1474.7555 - kl_metric: 7.7328e-06 - val_loss: -1470.2583 - val_kl_metric: 2.9983e-06\n",
            "Epoch 14/100\n",
            "938/938 [==============================] - 11s 12ms/step - loss: -1474.7549 - kl_metric: 7.6611e-06 - val_loss: -1470.2583 - val_kl_metric: 1.1864e-05\n",
            "Epoch 15/100\n",
            "938/938 [==============================] - 11s 11ms/step - loss: -1474.7562 - kl_metric: 4.9609e-06 - val_loss: -1470.2583 - val_kl_metric: 3.8093e-06\n",
            "Epoch 16/100\n",
            "938/938 [==============================] - 11s 12ms/step - loss: -1474.7546 - kl_metric: 4.3984e-06 - val_loss: -1470.2583 - val_kl_metric: 2.8117e-06\n",
            "Epoch 17/100\n",
            "938/938 [==============================] - 11s 12ms/step - loss: -1474.7563 - kl_metric: 3.3306e-06 - val_loss: -1470.2583 - val_kl_metric: 6.4448e-07\n",
            "Epoch 18/100\n",
            "938/938 [==============================] - 11s 11ms/step - loss: -1474.7560 - kl_metric: 2.7540e-06 - val_loss: -1470.2583 - val_kl_metric: 7.1152e-07\n",
            "Epoch 19/100\n",
            "938/938 [==============================] - 11s 12ms/step - loss: -1474.7556 - kl_metric: 1.8847e-06 - val_loss: -1470.2583 - val_kl_metric: 5.9744e-07\n",
            "Epoch 20/100\n",
            "938/938 [==============================] - 11s 12ms/step - loss: -1474.7555 - kl_metric: 1.3596e-06 - val_loss: -1470.2583 - val_kl_metric: 1.1068e-06\n",
            "Epoch 21/100\n",
            "938/938 [==============================] - 11s 12ms/step - loss: -1474.7556 - kl_metric: 4.9838e-07 - val_loss: -1470.2583 - val_kl_metric: 5.3566e-07\n",
            "Epoch 22/100\n",
            "938/938 [==============================] - 11s 12ms/step - loss: -1474.7549 - kl_metric: 4.9302e-07 - val_loss: -1470.2583 - val_kl_metric: 1.1224e-07\n",
            "Epoch 23/100\n",
            "938/938 [==============================] - 11s 11ms/step - loss: -1474.7556 - kl_metric: 5.9207e-07 - val_loss: -1470.2583 - val_kl_metric: 1.3693e-07\n",
            "Epoch 24/100\n",
            "938/938 [==============================] - 11s 12ms/step - loss: -1474.7566 - kl_metric: 2.4680e-07 - val_loss: -1470.2583 - val_kl_metric: 1.9659e-07\n",
            "Epoch 25/100\n",
            "938/938 [==============================] - 11s 12ms/step - loss: -1474.7555 - kl_metric: 1.7701e-07 - val_loss: -1470.2583 - val_kl_metric: 1.4061e-07\n",
            "Epoch 26/100\n",
            "938/938 [==============================] - 11s 11ms/step - loss: -1474.7552 - kl_metric: 2.6266e-07 - val_loss: -1470.2583 - val_kl_metric: 1.2329e-07\n",
            "Epoch 27/100\n",
            "938/938 [==============================] - 11s 12ms/step - loss: -1474.7546 - kl_metric: 1.4376e-07 - val_loss: -1470.2583 - val_kl_metric: 2.4423e-07\n",
            "Epoch 28/100\n",
            "938/938 [==============================] - 11s 12ms/step - loss: -1474.7552 - kl_metric: 1.6786e-07 - val_loss: -1470.2583 - val_kl_metric: 5.2321e-07\n",
            "Epoch 29/100\n",
            "938/938 [==============================] - 11s 12ms/step - loss: -1474.7561 - kl_metric: 1.1485e-07 - val_loss: -1470.2583 - val_kl_metric: 6.5913e-08\n",
            "Epoch 30/100\n",
            "938/938 [==============================] - 11s 12ms/step - loss: -1474.7560 - kl_metric: 2.2384e-07 - val_loss: -1470.2583 - val_kl_metric: 1.8024e-08\n",
            "Epoch 31/100\n",
            "938/938 [==============================] - 11s 11ms/step - loss: -1474.7552 - kl_metric: 5.9689e-08 - val_loss: -1470.2583 - val_kl_metric: 2.2565e-08\n",
            "Epoch 32/100\n",
            "938/938 [==============================] - 11s 11ms/step - loss: -1474.7559 - kl_metric: 6.8479e-08 - val_loss: -1470.2583 - val_kl_metric: 2.1649e-08\n",
            "Epoch 33/100\n",
            "938/938 [==============================] - 11s 12ms/step - loss: -1474.7572 - kl_metric: 7.5117e-08 - val_loss: -1470.2583 - val_kl_metric: 1.9534e-08\n",
            "Epoch 34/100\n",
            "938/938 [==============================] - 11s 11ms/step - loss: -1474.7560 - kl_metric: 3.3982e-07 - val_loss: -1470.2583 - val_kl_metric: 1.6734e-08\n",
            "Epoch 35/100\n",
            "938/938 [==============================] - 11s 12ms/step - loss: -1474.7563 - kl_metric: 1.9086e-08 - val_loss: -1470.2583 - val_kl_metric: 1.4281e-08\n",
            "Epoch 36/100\n",
            "938/938 [==============================] - 11s 11ms/step - loss: -1474.7555 - kl_metric: 5.1730e-08 - val_loss: -1470.2583 - val_kl_metric: 2.0720e-08\n",
            "Epoch 37/100\n",
            "938/938 [==============================] - 11s 12ms/step - loss: -1474.7552 - kl_metric: 6.1666e-08 - val_loss: -1470.2583 - val_kl_metric: 1.6850e-08\n",
            "Epoch 38/100\n",
            "938/938 [==============================] - 11s 12ms/step - loss: -1474.7559 - kl_metric: 5.5812e-07 - val_loss: -1470.2583 - val_kl_metric: 2.0723e-08\n",
            "Epoch 39/100\n",
            "938/938 [==============================] - 11s 12ms/step - loss: -1474.7552 - kl_metric: 1.2208e-08 - val_loss: -1470.2583 - val_kl_metric: 2.3523e-08\n",
            "Epoch 40/100\n",
            "938/938 [==============================] - 11s 11ms/step - loss: -1474.7557 - kl_metric: 1.3854e-08 - val_loss: -1470.2583 - val_kl_metric: 1.3650e-08\n",
            "Epoch 41/100\n",
            "938/938 [==============================] - 11s 11ms/step - loss: -1474.7535 - kl_metric: 2.8791e-08 - val_loss: -1470.2583 - val_kl_metric: 1.1856e-07\n",
            "Epoch 42/100\n",
            "938/938 [==============================] - 11s 12ms/step - loss: -1474.7563 - kl_metric: 4.8406e-08 - val_loss: -1470.2583 - val_kl_metric: 1.8125e-08\n",
            "Epoch 43/100\n",
            "938/938 [==============================] - 11s 12ms/step - loss: -1474.7548 - kl_metric: 1.5394e-07 - val_loss: -1470.2583 - val_kl_metric: 1.9232e-08\n",
            "Epoch 44/100\n",
            "938/938 [==============================] - 11s 12ms/step - loss: -1474.7554 - kl_metric: 1.6781e-08 - val_loss: -1470.2583 - val_kl_metric: 6.2568e-08\n",
            "Epoch 45/100\n",
            "938/938 [==============================] - 11s 12ms/step - loss: -1474.7556 - kl_metric: 2.0087e-08 - val_loss: -1470.2583 - val_kl_metric: 1.9777e-08\n",
            "Epoch 46/100\n",
            "938/938 [==============================] - 11s 11ms/step - loss: -1474.7551 - kl_metric: 2.0720e-07 - val_loss: -1470.2583 - val_kl_metric: 2.2049e-08\n",
            "Epoch 47/100\n",
            "938/938 [==============================] - 11s 11ms/step - loss: -1474.7554 - kl_metric: 8.4132e-09 - val_loss: -1470.2583 - val_kl_metric: 2.0243e-08\n",
            "Epoch 48/100\n",
            "938/938 [==============================] - 11s 12ms/step - loss: -1474.7560 - kl_metric: 1.7608e-08 - val_loss: -1470.2583 - val_kl_metric: 2.9645e-08\n",
            "Epoch 49/100\n",
            "938/938 [==============================] - 11s 12ms/step - loss: -1474.7559 - kl_metric: 3.0722e-08 - val_loss: -1470.2583 - val_kl_metric: 1.5230e-08\n",
            "Epoch 50/100\n",
            "938/938 [==============================] - 11s 11ms/step - loss: -1474.7543 - kl_metric: 4.6801e-08 - val_loss: -1470.2583 - val_kl_metric: 5.3249e-08\n",
            "Epoch 51/100\n",
            "938/938 [==============================] - 11s 12ms/step - loss: -1474.7567 - kl_metric: 1.5099e-08 - val_loss: -1470.2583 - val_kl_metric: 2.1762e-08\n",
            "Epoch 52/100\n",
            "938/938 [==============================] - 11s 12ms/step - loss: -1474.7568 - kl_metric: 6.7916e-08 - val_loss: -1470.2583 - val_kl_metric: 2.1919e-08\n",
            "Epoch 53/100\n",
            "938/938 [==============================] - 11s 12ms/step - loss: -1474.7545 - kl_metric: 1.1553e-08 - val_loss: -1470.2583 - val_kl_metric: 2.3861e-08\n",
            "Epoch 54/100\n",
            "938/938 [==============================] - 11s 12ms/step - loss: -1474.7551 - kl_metric: 2.4139e-08 - val_loss: -1470.2583 - val_kl_metric: 1.6746e-08\n",
            "Epoch 55/100\n",
            "938/938 [==============================] - 11s 12ms/step - loss: -1474.7552 - kl_metric: 4.7221e-08 - val_loss: -1470.2583 - val_kl_metric: 2.0892e-08\n",
            "Epoch 56/100\n",
            "938/938 [==============================] - 11s 12ms/step - loss: -1474.7557 - kl_metric: 2.9816e-08 - val_loss: -1470.2583 - val_kl_metric: 1.6076e-08\n",
            "Epoch 57/100\n",
            "938/938 [==============================] - 12s 12ms/step - loss: -1474.7557 - kl_metric: 1.5548e-08 - val_loss: -1470.2583 - val_kl_metric: 2.1996e-08\n",
            "Epoch 58/100\n",
            "938/938 [==============================] - 11s 12ms/step - loss: -1474.7556 - kl_metric: 1.2276e-07 - val_loss: -1470.2583 - val_kl_metric: 2.6724e-08\n",
            "Epoch 59/100\n",
            "938/938 [==============================] - 11s 12ms/step - loss: -1474.7548 - kl_metric: 1.2935e-08 - val_loss: -1470.2583 - val_kl_metric: 2.2648e-08\n",
            "Epoch 60/100\n",
            "938/938 [==============================] - 11s 11ms/step - loss: -1474.7573 - kl_metric: 1.6466e-08 - val_loss: -1470.2583 - val_kl_metric: 2.8681e-08\n",
            "Epoch 61/100\n",
            "938/938 [==============================] - 11s 11ms/step - loss: -1474.7557 - kl_metric: 2.0557e-08 - val_loss: -1470.2583 - val_kl_metric: 2.4416e-08\n",
            "Epoch 62/100\n",
            "938/938 [==============================] - 11s 11ms/step - loss: -1474.7571 - kl_metric: 2.1475e-08 - val_loss: -1470.2583 - val_kl_metric: 4.1678e-08\n",
            "Epoch 63/100\n",
            "938/938 [==============================] - 11s 12ms/step - loss: -1474.7552 - kl_metric: 2.1295e-08 - val_loss: -1470.2583 - val_kl_metric: 6.3689e-08\n",
            "Epoch 64/100\n",
            "938/938 [==============================] - 11s 11ms/step - loss: -1474.7556 - kl_metric: 1.8451e-08 - val_loss: -1470.2583 - val_kl_metric: 3.2270e-08\n",
            "Epoch 65/100\n",
            "938/938 [==============================] - 11s 12ms/step - loss: -1474.7556 - kl_metric: 3.8987e-08 - val_loss: -1470.2583 - val_kl_metric: 2.6080e-08\n",
            "Epoch 66/100\n",
            "938/938 [==============================] - 11s 12ms/step - loss: -1474.7570 - kl_metric: 1.1628e-08 - val_loss: -1470.2583 - val_kl_metric: 7.4936e-08\n",
            "Epoch 67/100\n",
            "938/938 [==============================] - 11s 12ms/step - loss: -1474.7552 - kl_metric: 1.8286e-08 - val_loss: -1470.2583 - val_kl_metric: 3.0668e-08\n",
            "Epoch 68/100\n",
            "938/938 [==============================] - 11s 12ms/step - loss: -1474.7557 - kl_metric: 2.9365e-08 - val_loss: -1470.2583 - val_kl_metric: 2.6246e-08\n",
            "Epoch 69/100\n",
            "938/938 [==============================] - 11s 12ms/step - loss: -1474.7552 - kl_metric: 1.3164e-08 - val_loss: -1470.2583 - val_kl_metric: 3.0571e-08\n",
            "Epoch 70/100\n",
            "938/938 [==============================] - 11s 12ms/step - loss: -1474.7572 - kl_metric: 3.4296e-08 - val_loss: -1470.2583 - val_kl_metric: 3.0508e-08\n",
            "Epoch 71/100\n",
            "938/938 [==============================] - 11s 12ms/step - loss: -1474.7552 - kl_metric: 1.2266e-08 - val_loss: -1470.2583 - val_kl_metric: 3.2564e-08\n",
            "Epoch 72/100\n",
            "938/938 [==============================] - 11s 12ms/step - loss: -1474.7554 - kl_metric: 1.6674e-08 - val_loss: -1470.2583 - val_kl_metric: 2.9467e-08\n",
            "Epoch 73/100\n",
            "938/938 [==============================] - 11s 11ms/step - loss: -1474.7562 - kl_metric: 1.5581e-08 - val_loss: -1470.2583 - val_kl_metric: 6.7791e-08\n",
            "Epoch 74/100\n",
            "938/938 [==============================] - 11s 11ms/step - loss: -1474.7560 - kl_metric: 3.3782e-08 - val_loss: -1470.2583 - val_kl_metric: 2.8892e-08\n",
            "Epoch 75/100\n",
            "938/938 [==============================] - 11s 12ms/step - loss: -1474.7555 - kl_metric: 1.0869e-08 - val_loss: -1470.2583 - val_kl_metric: 3.1914e-08\n",
            "Epoch 76/100\n",
            "938/938 [==============================] - 11s 12ms/step - loss: -1474.7559 - kl_metric: 1.4886e-08 - val_loss: -1470.2583 - val_kl_metric: 2.5804e-08\n",
            "Epoch 77/100\n",
            "938/938 [==============================] - 11s 12ms/step - loss: -1474.7559 - kl_metric: 1.5509e-08 - val_loss: -1470.2583 - val_kl_metric: 3.4094e-08\n",
            "Epoch 78/100\n",
            "938/938 [==============================] - 12s 12ms/step - loss: -1474.7561 - kl_metric: 1.7350e-08 - val_loss: -1470.2583 - val_kl_metric: 2.4665e-08\n",
            "Epoch 79/100\n",
            "938/938 [==============================] - 11s 12ms/step - loss: -1474.7561 - kl_metric: 5.4742e-08 - val_loss: -1470.2583 - val_kl_metric: 2.9805e-08\n",
            "Epoch 80/100\n",
            "938/938 [==============================] - 11s 11ms/step - loss: -1474.7559 - kl_metric: 2.8024e-09 - val_loss: -1470.2583 - val_kl_metric: 8.6281e-09\n",
            "Epoch 81/100\n",
            "938/938 [==============================] - 11s 12ms/step - loss: -1474.7566 - kl_metric: 9.1876e-09 - val_loss: -1470.2583 - val_kl_metric: 3.3195e-08\n",
            "Epoch 82/100\n",
            "938/938 [==============================] - 11s 12ms/step - loss: -1474.7566 - kl_metric: 1.4456e-08 - val_loss: -1470.2583 - val_kl_metric: 3.6363e-08\n",
            "Epoch 83/100\n",
            "938/938 [==============================] - 11s 11ms/step - loss: -1474.7560 - kl_metric: 1.4047e-08 - val_loss: -1470.2583 - val_kl_metric: 7.0763e-08\n",
            "Epoch 84/100\n",
            "938/938 [==============================] - 11s 12ms/step - loss: -1474.7559 - kl_metric: 1.4284e-08 - val_loss: -1470.2583 - val_kl_metric: 3.5838e-08\n",
            "Epoch 85/100\n",
            "938/938 [==============================] - 11s 11ms/step - loss: -1474.7576 - kl_metric: 1.3103e-08 - val_loss: -1470.2583 - val_kl_metric: 2.8832e-08\n",
            "Epoch 86/100\n",
            "938/938 [==============================] - 11s 11ms/step - loss: -1474.7552 - kl_metric: 1.3660e-08 - val_loss: -1470.2583 - val_kl_metric: 2.4440e-08\n",
            "Epoch 87/100\n",
            "938/938 [==============================] - 10s 11ms/step - loss: -1474.7571 - kl_metric: 1.3543e-08 - val_loss: -1470.2583 - val_kl_metric: 3.4228e-08\n",
            "Epoch 88/100\n",
            "938/938 [==============================] - 11s 11ms/step - loss: -1474.7546 - kl_metric: 1.4203e-08 - val_loss: -1470.2583 - val_kl_metric: 3.9492e-08\n",
            "Epoch 89/100\n",
            "938/938 [==============================] - 11s 11ms/step - loss: -1474.7556 - kl_metric: 1.3551e-08 - val_loss: -1470.2583 - val_kl_metric: 2.6830e-08\n",
            "Epoch 90/100\n",
            "938/938 [==============================] - 11s 11ms/step - loss: -1474.7566 - kl_metric: 1.3621e-08 - val_loss: -1470.2583 - val_kl_metric: 2.0501e-08\n",
            "Epoch 91/100\n",
            "938/938 [==============================] - 11s 12ms/step - loss: -1474.7559 - kl_metric: 1.3340e-08 - val_loss: -1470.2583 - val_kl_metric: 3.1057e-08\n",
            "Epoch 92/100\n",
            "938/938 [==============================] - 10s 11ms/step - loss: -1474.7557 - kl_metric: 1.5828e-08 - val_loss: -1470.2583 - val_kl_metric: 2.9455e-08\n",
            "Epoch 93/100\n",
            "938/938 [==============================] - 11s 11ms/step - loss: -1474.7566 - kl_metric: 1.0007e-08 - val_loss: -1470.2583 - val_kl_metric: 3.4305e-08\n",
            "Epoch 94/100\n",
            "938/938 [==============================] - 11s 11ms/step - loss: -1474.7560 - kl_metric: 1.2052e-08 - val_loss: -1470.2583 - val_kl_metric: 2.0981e-08\n",
            "Epoch 95/100\n",
            "938/938 [==============================] - 11s 12ms/step - loss: -1474.7560 - kl_metric: 1.3814e-08 - val_loss: -1470.2583 - val_kl_metric: 3.3044e-08\n",
            "Epoch 96/100\n",
            "938/938 [==============================] - 11s 12ms/step - loss: -1474.7562 - kl_metric: 1.2300e-08 - val_loss: -1470.2583 - val_kl_metric: 2.7379e-08\n",
            "Epoch 97/100\n",
            "938/938 [==============================] - 11s 12ms/step - loss: -1474.7563 - kl_metric: 1.2139e-08 - val_loss: -1470.2583 - val_kl_metric: 3.1502e-08\n",
            "Epoch 98/100\n",
            "938/938 [==============================] - 11s 11ms/step - loss: -1474.7559 - kl_metric: 1.4560e-08 - val_loss: -1470.2583 - val_kl_metric: 2.6999e-08\n",
            "Epoch 99/100\n",
            "938/938 [==============================] - 10s 11ms/step - loss: -1474.7554 - kl_metric: 1.1708e-08 - val_loss: -1470.2583 - val_kl_metric: 3.0559e-08\n",
            "Epoch 100/100\n",
            "938/938 [==============================] - 11s 12ms/step - loss: -1474.7557 - kl_metric: 1.2519e-08 - val_loss: -1470.2583 - val_kl_metric: 2.9547e-08\n",
            "(60000, 28, 28, 1) (10000, 28, 28, 1)\n"
          ]
        }
      ],
      "source": [
        "### Train the model on the images from the training set until the losses\n",
        "### converge.\n",
        "### Use \"history = model.fit\" to store the training and validation losses in\n",
        "### a dictionary so you can plot them later.\n",
        "\n",
        "\n",
        "history = vae.fit(x_train, y_train, epochs=100, batch_size=64,\n",
        "                    validation_data=(x_test, y_test))\n",
        "\n",
        "tr_data = x_train.astype('float32')/255\n",
        "tst_data = x_test.astype('float32')/255\n",
        "tr_data = np.reshape(tr_data, (60000, 28, 28, 1))\n",
        "tst_data = np.reshape(tst_data, (10000, 28, 28, 1))\n",
        "print (tr_data.shape, tst_data.shape)"
      ]
    },
    {
      "cell_type": "code",
      "execution_count": null,
      "metadata": {
        "colab": {
          "base_uri": "https://localhost:8080/",
          "height": 568
        },
        "id": "F2EbEDP3h1GB",
        "outputId": "e43c12d8-8c3e-4ecf-b01e-5dabf76a380d"
      },
      "outputs": [
        {
          "name": "stdout",
          "output_type": "stream",
          "text": [
            "{'loss': [-1461.2916259765625, -1474.754638671875, -1474.75439453125, -1474.7562255859375, -1474.7557373046875, -1474.7567138671875, -1474.7559814453125, -1474.75537109375, -1474.7567138671875, -1474.756591796875, -1474.755859375, -1474.7557373046875, -1474.7554931640625, -1474.7548828125, -1474.7562255859375, -1474.754638671875, -1474.75634765625, -1474.7559814453125, -1474.755615234375, -1474.7554931640625, -1474.755615234375, -1474.7548828125, -1474.755615234375, -1474.756591796875, -1474.7554931640625, -1474.7552490234375, -1474.754638671875, -1474.7552490234375, -1474.756103515625, -1474.7559814453125, -1474.7552490234375, -1474.755859375, -1474.7572021484375, -1474.7559814453125, -1474.75634765625, -1474.7554931640625, -1474.7552490234375, -1474.755859375, -1474.7552490234375, -1474.7557373046875, -1474.7535400390625, -1474.75634765625, -1474.7547607421875, -1474.75537109375, -1474.755615234375, -1474.755126953125, -1474.75537109375, -1474.7559814453125, -1474.755859375, -1474.7542724609375, -1474.7567138671875, -1474.7568359375, -1474.7545166015625, -1474.755126953125, -1474.7552490234375, -1474.7557373046875, -1474.7557373046875, -1474.755615234375, -1474.7547607421875, -1474.75732421875, -1474.7557373046875, -1474.757080078125, -1474.7552490234375, -1474.755615234375, -1474.755615234375, -1474.7569580078125, -1474.7552490234375, -1474.7557373046875, -1474.7552490234375, -1474.7572021484375, -1474.7552490234375, -1474.75537109375, -1474.7562255859375, -1474.7559814453125, -1474.7554931640625, -1474.755859375, -1474.755859375, -1474.756103515625, -1474.756103515625, -1474.755859375, -1474.756591796875, -1474.756591796875, -1474.7559814453125, -1474.755859375, -1474.757568359375, -1474.7552490234375, -1474.757080078125, -1474.754638671875, -1474.755615234375, -1474.756591796875, -1474.755859375, -1474.7557373046875, -1474.756591796875, -1474.7559814453125, -1474.7559814453125, -1474.7562255859375, -1474.75634765625, -1474.755859375, -1474.75537109375, -1474.7557373046875], 'kl_metric': [4.1236348152160645, 0.0002962878788821399, 0.00018383728456683457, 0.00013524823589250445, 0.00010243663564324379, 7.32761764083989e-05, 5.170472286408767e-05, 2.8380765797919594e-05, 1.1826748050225433e-05, 8.9074064817396e-06, 8.274821084341966e-06, 9.578637218510266e-06, 7.73283863964025e-06, 7.661077688680962e-06, 4.960898877470754e-06, 4.398417786433129e-06, 3.3306021123280516e-06, 2.753971102720243e-06, 1.8847064211513498e-06, 1.3595577001979109e-06, 4.983752432963229e-07, 4.930241175316041e-07, 5.920714443163888e-07, 2.467984927534417e-07, 1.7700887156024692e-07, 2.6265530550517724e-07, 1.4376026058471325e-07, 1.678594827581037e-07, 1.1485104067787688e-07, 2.2383910902590287e-07, 5.968904304154421e-08, 6.847852063174287e-08, 7.51174198398985e-08, 3.398165802082076e-07, 1.908615487877796e-08, 5.1729607264405786e-08, 6.166586530298446e-08, 5.581203481597186e-07, 1.2207970634392495e-08, 1.3854167590920952e-08, 2.8790577033532827e-08, 4.840593703647755e-08, 1.5393828789456165e-07, 1.6781180889324787e-08, 2.0086979191091814e-08, 2.072004150477369e-07, 8.413178598232207e-09, 1.7607755253834512e-08, 3.0722226540547126e-08, 4.680144272128928e-08, 1.5098745365094146e-08, 6.791555762220014e-08, 1.1553165535360677e-08, 2.413892730146472e-08, 4.722143032154236e-08, 2.981622415632046e-08, 1.5548023313272097e-08, 1.2276132110855542e-07, 1.293475992980575e-08, 1.6466438879092493e-08, 2.0557109792207484e-08, 2.147502797811285e-08, 2.1295315733027564e-08, 1.8451208561032217e-08, 3.898696832038695e-08, 1.1627632190425174e-08, 1.8286389291688465e-08, 2.936495846483922e-08, 1.3164115131303333e-08, 3.429560635481721e-08, 1.2266054838505625e-08, 1.667395110871439e-08, 1.5580788215174834e-08, 3.378228541350836e-08, 1.0868574484845794e-08, 1.4885771726369512e-08, 1.5508804906971818e-08, 1.7350103576063702e-08, 5.474151265616456e-08, 2.802407195190426e-09, 9.187626659468151e-09, 1.4455854291384185e-08, 1.404728333653793e-08, 1.4284085914084699e-08, 1.310305375312737e-08, 1.3659563258272556e-08, 1.3543395738224717e-08, 1.420316575462266e-08, 1.3550843114273903e-08, 1.362084045553047e-08, 1.3339855442495718e-08, 1.5828016231012043e-08, 1.0007250139665302e-08, 1.2052088216307766e-08, 1.3813956201147448e-08, 1.2299812723881587e-08, 1.2139461880167346e-08, 1.4559610406195134e-08, 1.1708054969972181e-08, 1.2519238978825342e-08], 'val_loss': [-1470.258056640625, -1470.2581787109375, -1470.2581787109375, -1470.2581787109375, -1470.2581787109375, -1470.2581787109375, -1470.25830078125, -1470.25830078125, -1470.25830078125, -1470.25830078125, -1470.25830078125, -1470.25830078125, -1470.25830078125, -1470.25830078125, -1470.25830078125, -1470.25830078125, -1470.25830078125, -1470.25830078125, -1470.25830078125, -1470.25830078125, -1470.25830078125, -1470.25830078125, -1470.25830078125, -1470.25830078125, -1470.25830078125, -1470.25830078125, -1470.25830078125, -1470.25830078125, -1470.25830078125, -1470.25830078125, -1470.25830078125, -1470.25830078125, -1470.25830078125, -1470.25830078125, -1470.25830078125, -1470.25830078125, -1470.25830078125, -1470.25830078125, -1470.25830078125, -1470.25830078125, -1470.25830078125, -1470.25830078125, -1470.25830078125, -1470.25830078125, -1470.25830078125, -1470.25830078125, -1470.25830078125, -1470.25830078125, -1470.25830078125, -1470.25830078125, -1470.25830078125, -1470.25830078125, -1470.25830078125, -1470.25830078125, -1470.25830078125, -1470.25830078125, -1470.25830078125, -1470.25830078125, -1470.25830078125, -1470.25830078125, -1470.25830078125, -1470.25830078125, -1470.25830078125, -1470.25830078125, -1470.25830078125, -1470.25830078125, -1470.25830078125, -1470.25830078125, -1470.25830078125, -1470.25830078125, -1470.25830078125, -1470.25830078125, -1470.25830078125, -1470.25830078125, -1470.25830078125, -1470.25830078125, -1470.25830078125, -1470.25830078125, -1470.25830078125, -1470.25830078125, -1470.25830078125, -1470.25830078125, -1470.25830078125, -1470.25830078125, -1470.25830078125, -1470.25830078125, -1470.25830078125, -1470.25830078125, -1470.25830078125, -1470.25830078125, -1470.25830078125, -1470.25830078125, -1470.25830078125, -1470.25830078125, -1470.25830078125, -1470.25830078125, -1470.25830078125, -1470.25830078125, -1470.25830078125, -1470.25830078125], 'val_kl_metric': [0.0004147282743360847, 0.0002208028017776087, 0.0001585032296134159, 0.00013295207463670522, 8.440455712843686e-05, 7.095679029589519e-05, 3.9766295230947435e-05, 2.1885080059291795e-05, 2.757544098130893e-05, 3.350622819198179e-06, 2.8798806397389853e-06, 9.236958248948213e-06, 2.9982772957737325e-06, 1.186394365504384e-05, 3.809257577813696e-06, 2.8117074180045165e-06, 6.444752216339111e-07, 7.115215225894644e-07, 5.974375199002679e-07, 1.1067671721320949e-06, 5.356617407414888e-07, 1.1223919926806047e-07, 1.3693407652226597e-07, 1.965921114788216e-07, 1.4061191677683382e-07, 1.2329346077422088e-07, 2.4422598698947695e-07, 5.232075181993423e-07, 6.591331924710175e-08, 1.8024353565238016e-08, 2.2565293633647343e-08, 2.1648800085927178e-08, 1.953404549226434e-08, 1.6734146512931147e-08, 1.428126772395899e-08, 2.0720444027233498e-08, 1.6849821093956052e-08, 2.0723410543155296e-08, 2.352330952248849e-08, 1.364951085491839e-08, 1.1855676973482332e-07, 1.8125199119367608e-08, 1.9231514158946084e-08, 6.256767193235646e-08, 1.9777257165287665e-08, 2.2049210457453228e-08, 2.0242918452595404e-08, 2.9645125465549427e-08, 1.523038584139158e-08, 5.324851670707176e-08, 2.1761508151030284e-08, 2.191870684953301e-08, 2.386143371779781e-08, 1.67460108002615e-08, 2.0892471752631536e-08, 1.607569544148646e-08, 2.1995822052645053e-08, 2.6723618873347732e-08, 2.2648341868602984e-08, 2.8681176544864684e-08, 2.4416074495547946e-08, 4.1678166695646723e-08, 6.368882310425761e-08, 3.227003020356278e-08, 2.6079998605155197e-08, 7.49358761709118e-08, 3.066839227017226e-08, 2.624609329870964e-08, 3.057051500832131e-08, 3.050822883210458e-08, 3.256366554182932e-08, 2.946716470830779e-08, 6.779079342322802e-08, 2.8891761871818744e-08, 3.191411224179319e-08, 2.5804160586062608e-08, 3.409411775123772e-08, 2.4665217424058028e-08, 2.980528890361711e-08, 8.62808047230601e-09, 3.3195419746334665e-08, 3.636310452748148e-08, 7.076271657524558e-08, 3.583812357987881e-08, 2.8832442211523812e-08, 2.4439803070208654e-08, 3.4227586098722895e-08, 3.94922281543586e-08, 2.683039568296408e-08, 2.050096092887088e-08, 3.105693835436796e-08, 2.9455300420977437e-08, 3.430470485454862e-08, 2.0981451243073934e-08, 3.3044155856032376e-08, 2.737910342887062e-08, 3.150183758293679e-08, 2.699945689244032e-08, 3.0558652497347794e-08, 2.9547246427341634e-08]}\n",
            "dict_keys(['loss', 'kl_metric', 'val_loss', 'val_kl_metric'])\n"
          ]
        },
        {
          "data": {
            "image/png": "[encoded data removed]",
            "text/plain": [
              "<Figure size 432x288 with 1 Axes>"
            ]
          },
          "metadata": {
            "needs_background": "light"
          },
          "output_type": "display_data"
        },
        {
          "data": {
            "image/png": "[encoded data removed]",
            "text/plain": [
              "<Figure size 432x288 with 1 Axes>"
            ]
          },
          "metadata": {
            "needs_background": "light"
          },
          "output_type": "display_data"
        }
      ],
      "source": [
        "print(history.history)\n",
        "print(history.history.keys())\n",
        "\n",
        "plt.plot(history.history['loss'])\n",
        "plt.show()\n",
        "\n",
        "plt.plot(history.history['kl_metric'])\n",
        "plt.show()"
      ]
    },
    {
      "cell_type": "code",
      "execution_count": 18,
      "metadata": {
        "colab": {
          "base_uri": "https://localhost:8080/",
          "height": 249
        },
        "id": "aqGM7bvzh0VO",
        "outputId": "da4286e3-e657-41ae-8ffb-7585f0072e4a"
      },
      "outputs": [
        {
          "name": "stdout",
          "output_type": "stream",
          "text": [
            "Real Test Images\n"
          ]
        },
        {
          "data": {
            "image/png": "[encoded data removed]",
            "text/plain": [
              "<Figure size 432x288 with 5 Axes>"
            ]
          },
          "metadata": {
            "needs_background": "light"
          },
          "output_type": "display_data"
        },
        {
          "name": "stdout",
          "output_type": "stream",
          "text": [
            "Images after reconstruction using Variational Autoencoder\n"
          ]
        },
        {
          "data": {
            "image/png": "[encoded data removed]",
            "text/plain": [
              "<Figure size 432x288 with 5 Axes>"
            ]
          },
          "metadata": {
            "needs_background": "light"
          },
          "output_type": "display_data"
        }
      ],
      "source": [
        "offset=400\n",
        "print (\"Real Test Images\")\n",
        "# Real Images\n",
        "for j in range(5):\n",
        "    i = np.random.randint(0, 100)\n",
        "    plt.subplot(350 + 1 + j)\n",
        "    plt.imshow(x_train[i])\n",
        "    plt.title(y_train[i])\n",
        "plt.show()\n",
        "# images after reconstruction\n",
        "print (\"Images after reconstruction using Variational Autoencoder\")\n",
        "\n",
        "for i in range(5):\n",
        "    plt.subplot(350 + 1 + i)\n",
        "    output = vae.predict(np.array([tst_data[i+offset]]))\n",
        "    output_image = np.reshape(output[0]*255, (28, 28))\n",
        "    plt.imshow(output_image)\n",
        "plt.show()\n"
      ]
    },
    {
      "cell_type": "code",
      "execution_count": null,
      "metadata": {
        "id": "MI_ct4t4lQYT"
      },
      "outputs": [],
      "source": []
    },
    {
      "cell_type": "code",
      "execution_count": null,
      "metadata": {
        "id": "_RFxfaj6lQYT"
      },
      "outputs": [],
      "source": []
    }
  ],
  "metadata": {
    "accelerator": "GPU",
    "colab": {
      "collapsed_sections": [],
      "name": "ADS_2_ASSIGNMENT_2.ipynb",
      "provenance": []
    },
    "kernelspec": {
      "display_name": "Python 3",
      "language": "python",
      "name": "python3"
    },
    "language_info": {
      "codemirror_mode": {
        "name": "ipython",
        "version": 3
      },
      "file_extension": ".py",
      "mimetype": "text/x-python",
      "name": "python",
      "nbconvert_exporter": "python",
      "pygments_lexer": "ipython3",
      "version": "3.8.8"
    }
  },
  "nbformat": 4,
  "nbformat_minor": 0
}
